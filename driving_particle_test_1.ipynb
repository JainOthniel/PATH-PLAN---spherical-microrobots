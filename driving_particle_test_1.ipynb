{
 "cells": [
  {
   "cell_type": "code",
   "execution_count": null,
   "id": "d0955499-2e3e-48dc-a7e4-c4246122a693",
   "metadata": {},
   "outputs": [],
   "source": [
    "\"\"\"\n",
    "initial test case where obstacles are placed above and below wrt robot\n",
    "\"\"\""
   ]
  },
  {
   "cell_type": "code",
   "execution_count": 5,
   "id": "075fe346-a334-421c-9cca-ee4a481aa04a",
   "metadata": {
    "tags": []
   },
   "outputs": [],
   "source": [
    "import numpy as np \n",
    "from parameters import Parameters\n",
    "from mobility_functions import Mobility_Functions\n",
    "from scipy.integrate import solve_ivp\n",
    "import matplotlib.pyplot as plt\n",
    "from matplotlib.patches import Circle\n",
    "from matplotlib.lines import Line2D\n",
    "# Disable scientific notation\n",
    "np.set_printoptions(suppress=True)\n",
    "\n",
    "\n",
    "\n",
    "def velocity_robot(t, r_d, param: Parameters, mobility_fun: Mobility_Functions) -> np.ndarray:\n",
    "    \n",
    "    param.position_robot = r_d\n",
    "    dimen_distance = (2 * param.distance_cal) / (param.radius_obstacle + param.radius_robot)\n",
    "    mobility_fun.dimensionless_distance = dimen_distance\n",
    "    inter_act = interactions(mobility_fun, param)\n",
    "    U_stokes = param.Force / (6 * np.pi *0.1 * param.radius_robot)\n",
    "    del_U = np.dot(param.Force, inter_act) - U_stokes\n",
    "    \n",
    "    return U_stokes + del_U.sum(axis=0)\n",
    "\n",
    "\n",
    "def interactions(mobility_fun: Mobility_Functions, param: Parameters) -> np.ndarray:\n",
    "    return b_alp_beta(mobility_fun.A11, mobility_fun.B11, param) - (b_alp_beta(mobility_fun.A12, mobility_fun.B12, param) \\\n",
    "                        @ b_alp_beta(mobility_fun.A21, mobility_fun.B21, param)) \\\n",
    "                        @ np.linalg.inv(b_alp_beta(mobility_fun.A22, mobility_fun.B22, param))\n",
    "    \n",
    "\n",
    "def broad_cast(shape_array: np.ndarray, reshape_array) -> np.ndarray:\n",
    "    return np.broadcast_to(shape_array[:, np.newaxis, np.newaxis], reshape_array.shape)\n",
    "\n",
    "def b_alp_beta(A: np.ndarray, B: np.ndarray, param: Parameters):\n",
    "    \n",
    "    const = 1 / ( 3 * np.pi * param.viscosity * (param.radius_robot + param.radius_obstacle))\n",
    "    \n",
    "    A_alp_beta = broad_cast(A,param.outer_product) * param.outer_product /\\\n",
    "    np.power(param.distance_cal.reshape((param.position_array.shape[0], 1, 1)), 2)\n",
    "    \n",
    "    B_alp_beta = broad_cast(B, param.outer_product) * (param.unit_tensor_mat - param.outer_product /\\\n",
    "    np.power(param.distance_cal.reshape((param.position_array.shape[0], 1, 1)), 2))\n",
    "\n",
    "    return const * (A_alp_beta + B_alp_beta)\n",
    "# \n",
    "a_d = 5\n",
    "a_o = 5\n",
    "r_d = np.array([10, 50])\n",
    "r_o = np.array([[20, 40], [40, 60], [60, 40], [80, 60], [100, 60], [120, 40], [150, 60], [190, 60]]) \n",
    "F = np.array([0.005,0])\n",
    "r = r_o - r_d \n",
    "param = Parameters(viscosity=0.1, radius_robot=a_d, radius_obstacle=a_o, position_robot=r_d, position_obstacle=r_o, Force=F)\n",
    "s = 2 * param.distance_cal / (a_o + a_d)\n",
    "la = np.tile( [a_o / a_d], (s.shape[0]))\n",
    "mob_fun = Mobility_Functions(dimensionless_distance=s, lamda=la)\n",
    "vel=[]\n",
    "inter = interactions(mob_fun, param)\n",
    "vel = velocity_robot(0 ,r_d, param, mob_fun)\n",
    "U_stokes = param.Force / (6 *np.pi *0.1* 5)\n",
    "U_robo_magn = np.linalg.norm(vel,ord=2,axis=0)\n",
    "tspan = (0,3_00_000)\n",
    "t_eval = np.arange(0,3_00_000,1)\n",
    "\n",
    "traje = solve_ivp(velocity_robot, tspan, r_d, method='RK45', t_eval=t_eval, args=(param, mob_fun))\n",
    "# if __name__ == 'main.py': \n",
    "#     main()"
   ]
  },
  {
   "cell_type": "code",
   "execution_count": null,
   "id": "df74369c-fc82-4285-b41b-37330a19677e",
   "metadata": {
    "tags": []
   },
   "outputs": [],
   "source": [
    "\n",
    "plt.figure(figsize=(10, 6))\n",
    "\n",
    "\n",
    "plt.plot(t, traje.y[1], color='blue')\n",
    "\n",
    "\n",
    "\n",
    "# for idx,obs in enumerate(r_o):\n",
    "#     circle = plt.Circle((obs[0], obs[1]), a_o, color='red', alpha=0.5, label='Obstacle' if idx == 0 else \"\")\n",
    "#     plt.gca().add_patch(circle)\n",
    "\n",
    "\n",
    "# circle_handle, line_handle = Line2D([0], [0], marker='o', color='w', label='Obstacle',\n",
    "#                         markerfacecolor='red', markersize=10, alpha=0.5),Line2D([0], [0], color='blue', label='Robot X Trajectory')\n",
    "                    \n",
    "plt.title('Trajectory of Robot and Positions of Obstacles')\n",
    "plt.xlabel('X')\n",
    "plt.ylabel('Y')\n",
    "plt.legend(handles=[circle_handle, line_handle], loc='upper right')\n",
    "plt.grid(False)\n",
    "plt.axis('equal')  \n",
    "plt.xlim(0, 100)   \n",
    "plt.ylim(0, 100)   \n",
    "plt.show()"
   ]
  },
  {
   "cell_type": "code",
   "execution_count": null,
   "id": "ac5634b7-8001-4037-b19d-9fad6ecc3914",
   "metadata": {
    "tags": []
   },
   "outputs": [],
   "source": [
    "plt.figure(figsize=(10, 6))\n",
    "\n",
    "plt.plot(traje.y[0], traje.y[1], color='blue')\n",
    "\n",
    "for idx,obs in enumerate(r_o):\n",
    "    circle = plt.Circle((obs[0], obs[1]), a_o, color='red', alpha=0.5, label='Obstacle' if idx == 0 else \"\")\n",
    "    plt.gca().add_patch(circle)\n",
    "\n",
    "\n",
    "circle_handle, line_handle = Line2D([0], [0], marker='o', color='w', label='Obstacle',\n",
    "                        markerfacecolor='red', markersize=10, alpha=0.5),Line2D([0], [0], color='blue', label='Robot X Trajectory')\n",
    "                    \n",
    "plt.title('Trajectory of Robot and Positions of Obstacles')\n",
    "plt.xlabel('X')\n",
    "plt.ylabel('Y')\n",
    "plt.legend(handles=[circle_handle, line_handle], loc='upper right')\n",
    "plt.grid(False)\n",
    "# plt.axis('equal')\n",
    "plt.gca().set_aspect('equal', adjustable='box')\n",
    "plt.yticks(np.arange(0,100,10))\n",
    "plt.xlim(0, 200)   \n",
    "plt.ylim(0, 100)   \n",
    "plt.show()"
   ]
  },
  {
   "cell_type": "code",
   "execution_count": null,
   "id": "e6e54d7d-4f93-4120-8bc9-e7b13c558291",
   "metadata": {},
   "outputs": [],
   "source": [
    "path = "
   ]
  }
 ],
 "metadata": {
  "kernelspec": {
   "display_name": "Python 3 (ipykernel)",
   "language": "python",
   "name": "python3"
  },
  "language_info": {
   "codemirror_mode": {
    "name": "ipython",
    "version": 3
   },
   "file_extension": ".py",
   "mimetype": "text/x-python",
   "name": "python",
   "nbconvert_exporter": "python",
   "pygments_lexer": "ipython3",
   "version": "3.11.7"
  }
 },
 "nbformat": 4,
 "nbformat_minor": 5
}
